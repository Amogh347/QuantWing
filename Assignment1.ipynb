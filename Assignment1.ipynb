{
 "cells": [
  {
   "cell_type": "code",
   "execution_count": 4,
   "metadata": {},
   "outputs": [],
   "source": [
    "import pandas as pd\n",
    "import itertools\n",
    "import yfinance as yf"
   ]
  },
  {
   "cell_type": "code",
   "execution_count": 5,
   "metadata": {},
   "outputs": [],
   "source": [
    "nifty_stocks = [\"AAPL\", \"MSFT\", \"GOOGL\", \"AMZN\", \"TSLA\", \"JPM\", \"GS\", \"C\", \"KO\", \"PEP\", \"IBM\", \"INTC\", \"T\", \"VZ\", \"WMT\", \"DIS\", \"PG\", \"JNJ\", \"MRK\"]\n",
    "\n",
    "stock_data = yf.download(nifty_stocks, period=\"5y\", progress=False)['Adj Close']\n",
    "\n",
    "returns = stock_data.pct_change().dropna()"
   ]
  },
  {
   "cell_type": "code",
   "execution_count": 6,
   "metadata": {},
   "outputs": [],
   "source": [
    "stock_pairs = list(itertools.combinations(nifty_stocks, 2))\n",
    "\n",
    "correlation_dict = {}\n",
    "for pair in stock_pairs:\n",
    "    stock1, stock2 = pair\n",
    "    correlation = returns[stock1].corr(returns[stock2])\n",
    "    correlation_dict[pair] = correlation\n",
    "\n",
    "\n",
    "sorted_correlations = sorted(correlation_dict.items(), key=lambda x: x[1], reverse=True)"
   ]
  },
  {
   "cell_type": "code",
   "execution_count": 7,
   "metadata": {},
   "outputs": [
    {
     "name": "stdout",
     "output_type": "stream",
     "text": [
      "5 stock pairs with the lowest correlations:\n",
      "('JPM', 'C')\n",
      "('JPM', 'GS')\n",
      "('GS', 'C')\n",
      "('MSFT', 'GOOGL')\n",
      "('AAPL', 'MSFT')\n"
     ]
    }
   ],
   "source": [
    "chosen_pairs = []\n",
    "for pair, correlation in sorted_correlations[:5]:\n",
    "    chosen_pairs.append(pair)\n",
    "\n",
    "print(\"5 stock pairs with the lowest correlations:\")\n",
    "for pair in chosen_pairs:\n",
    "    print(pair)"
   ]
  }
 ],
 "metadata": {
  "kernelspec": {
   "display_name": "Python 3",
   "language": "python",
   "name": "python3"
  },
  "language_info": {
   "codemirror_mode": {
    "name": "ipython",
    "version": 3
   },
   "file_extension": ".py",
   "mimetype": "text/x-python",
   "name": "python",
   "nbconvert_exporter": "python",
   "pygments_lexer": "ipython3",
   "version": "3.11.5"
  }
 },
 "nbformat": 4,
 "nbformat_minor": 2
}
